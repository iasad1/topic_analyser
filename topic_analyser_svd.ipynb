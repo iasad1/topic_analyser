{
  "nbformat": 4,
  "nbformat_minor": 0,
  "metadata": {
    "colab": {
      "name": "topic_analyser_svd.ipynb",
      "provenance": [],
      "collapsed_sections": [],
      "toc_visible": true,
      "authorship_tag": "ABX9TyP+RWc8MEwiZ1O1bKb7gEF2",
      "include_colab_link": true
    },
    "kernelspec": {
      "display_name": "Python 3",
      "name": "python3"
    },
    "language_info": {
      "name": "python"
    }
  },
  "cells": [
    {
      "cell_type": "markdown",
      "metadata": {
        "id": "view-in-github",
        "colab_type": "text"
      },
      "source": [
        "<a href=\"https://colab.research.google.com/github/iasad1/topic_analyser/blob/main/topic_analyser_svd.ipynb\" target=\"_parent\"><img src=\"https://colab.research.google.com/assets/colab-badge.svg\" alt=\"Open In Colab\"/></a>"
      ]
    },
    {
      "cell_type": "markdown",
      "metadata": {
        "id": "Xb2vi_T_NJst"
      },
      "source": [
        "# Importing libraries"
      ]
    },
    {
      "cell_type": "code",
      "metadata": {
        "id": "gQngHm-UNQ0F"
      },
      "source": [
        "import numpy as np\n",
        "# from sklearn.datasets import fetch_20newsgroup\n",
        "import matplotlib.pyplot as plt\n",
        "%matplotlib inline"
      ],
      "execution_count": null,
      "outputs": []
    },
    {
      "cell_type": "markdown",
      "metadata": {
        "id": "em9IQB9mQv83"
      },
      "source": [
        "## About 20newsgroup\n",
        "\n",
        "Scikit Learn comes with a number of built-in datasets, as well as loading utilities to load several standard external datasets. This is a great resource, and the datasets include Boston housing prices, face images, patches of forest, diabetes, breast cancer, and more. We will be using the newsgroups dataset.\n",
        "\n",
        "Newsgroups are discussion groups on Usenet, which was popular in the 80s and 90s before the web really took off. This dataset includes 18,000 newsgroups posts with 20 topics."
      ]
    },
    {
      "cell_type": "markdown",
      "metadata": {
        "id": "66kW_1GRQ-25"
      },
      "source": [
        "## Importing 20newsgroup data\n"
      ]
    },
    {
      "cell_type": "code",
      "metadata": {
        "id": "swraIHwHQIz2"
      },
      "source": [
        "from sklearn.datasets import fetch_20newsgroups"
      ],
      "execution_count": null,
      "outputs": []
    },
    {
      "cell_type": "markdown",
      "metadata": {
        "id": "lvV0P6LcQiqX"
      },
      "source": [
        "# Data Exploration"
      ]
    },
    {
      "cell_type": "code",
      "metadata": {
        "id": "QDoiCT_0Ql1u"
      },
      "source": [
        "# ?fetch_20newsgroups"
      ],
      "execution_count": null,
      "outputs": []
    },
    {
      "cell_type": "code",
      "metadata": {
        "id": "05fEdnPlUrNC"
      },
      "source": [
        "exp_newsgroups_train = fetch_20newsgroups(subset='train')"
      ],
      "execution_count": null,
      "outputs": []
    },
    {
      "cell_type": "code",
      "metadata": {
        "colab": {
          "base_uri": "https://localhost:8080/"
        },
        "id": "eU1I_zNmR_JF",
        "outputId": "10b3236a-6188-4836-db9c-f89c5906563b"
      },
      "source": [
        "from pprint import pprint\n",
        "pprint(list(exp_newsgroups_train.target_names))"
      ],
      "execution_count": null,
      "outputs": [
        {
          "output_type": "stream",
          "text": [
            "['alt.atheism',\n",
            " 'comp.graphics',\n",
            " 'comp.os.ms-windows.misc',\n",
            " 'comp.sys.ibm.pc.hardware',\n",
            " 'comp.sys.mac.hardware',\n",
            " 'comp.windows.x',\n",
            " 'misc.forsale',\n",
            " 'rec.autos',\n",
            " 'rec.motorcycles',\n",
            " 'rec.sport.baseball',\n",
            " 'rec.sport.hockey',\n",
            " 'sci.crypt',\n",
            " 'sci.electronics',\n",
            " 'sci.med',\n",
            " 'sci.space',\n",
            " 'soc.religion.christian',\n",
            " 'talk.politics.guns',\n",
            " 'talk.politics.mideast',\n",
            " 'talk.politics.misc',\n",
            " 'talk.religion.misc']\n"
          ],
          "name": "stdout"
        }
      ]
    },
    {
      "cell_type": "code",
      "metadata": {
        "id": "XuinaR0cSTwo"
      },
      "source": [
        "categories = ['alt.atheism', 'talk.religion.misc', 'comp.graphics', 'sci.space']"
      ],
      "execution_count": null,
      "outputs": []
    },
    {
      "cell_type": "code",
      "metadata": {
        "id": "xnIdn6i6S5UM"
      },
      "source": [
        "remove = ('headers','footers','quotes')"
      ],
      "execution_count": null,
      "outputs": []
    },
    {
      "cell_type": "code",
      "metadata": {
        "id": "AXa6tSS-TRAF"
      },
      "source": [
        "newsgroups_train =fetch_20newsgroups(subset='train',categories=categories,remove=remove)\n",
        "newsgroups_test = fetch_20newsgroups(subset='test',categories=categories,remove=remove)"
      ],
      "execution_count": null,
      "outputs": []
    },
    {
      "cell_type": "code",
      "metadata": {
        "colab": {
          "base_uri": "https://localhost:8080/"
        },
        "id": "k2q8Yx45TtU4",
        "outputId": "863a5066-76e6-4d02-bdaa-c057ab913460"
      },
      "source": [
        "newsgroups_train.filenames.shape, newsgroups_train.target.shape"
      ],
      "execution_count": null,
      "outputs": [
        {
          "output_type": "execute_result",
          "data": {
            "text/plain": [
              "((2034,), (2034,))"
            ]
          },
          "metadata": {
            "tags": []
          },
          "execution_count": 168
        }
      ]
    },
    {
      "cell_type": "code",
      "metadata": {
        "colab": {
          "base_uri": "https://localhost:8080/"
        },
        "id": "xwA3KeTvUDKj",
        "outputId": "c1db3f04-0ef8-4111-f87b-8c895bf210cd"
      },
      "source": [
        "type(newsgroups_train)"
      ],
      "execution_count": null,
      "outputs": [
        {
          "output_type": "execute_result",
          "data": {
            "text/plain": [
              "sklearn.utils.Bunch"
            ]
          },
          "metadata": {
            "tags": []
          },
          "execution_count": 169
        }
      ]
    },
    {
      "cell_type": "code",
      "metadata": {
        "colab": {
          "base_uri": "https://localhost:8080/"
        },
        "id": "t2zw94WjVmwY",
        "outputId": "e9ea21a3-9130-4206-fa11-56dda57469ac"
      },
      "source": [
        "pprint(newsgroups_train.data[:3])"
      ],
      "execution_count": null,
      "outputs": [
        {
          "output_type": "stream",
          "text": [
            "['Hi,\\n'\n",
            " '\\n'\n",
            " \"I've noticed that if you only save a model (with all your mapping planes\\n\"\n",
            " 'positioned carefully) to a .3DS file that when you reload it after '\n",
            " 'restarting\\n'\n",
            " '3DS, they are given a default position and orientation.  But if you save\\n'\n",
            " 'to a .PRJ file their positions/orientation are preserved.  Does anyone\\n'\n",
            " 'know why this information is not stored in the .3DS file?  Nothing is\\n'\n",
            " 'explicitly said in the manual about saving texture rules in the .PRJ file. \\n'\n",
            " \"I'd like to be able to read the texture rule information, does anyone have \\n\"\n",
            " 'the format for the .PRJ file?\\n'\n",
            " '\\n'\n",
            " 'Is the .CEL file format available from somewhere?\\n'\n",
            " '\\n'\n",
            " 'Rych',\n",
            " '\\n'\n",
            " '\\n'\n",
            " 'Seems to be, barring evidence to the contrary, that Koresh was simply\\n'\n",
            " 'another deranged fanatic who thought it neccessary to take a whole bunch of\\n'\n",
            " 'folks with him, children and all, to satisfy his delusional mania. Jim\\n'\n",
            " 'Jones, circa 1993.\\n'\n",
            " '\\n'\n",
            " '\\n'\n",
            " 'Nope - fruitcakes like Koresh have been demonstrating such evil corruption\\n'\n",
            " 'for centuries.',\n",
            " '\\n'\n",
            " ' >In article <1993Apr19.020359.26996@sq.sq.com>, msb@sq.sq.com (Mark '\n",
            " 'Brader) \\n'\n",
            " '\\n'\n",
            " 'MB>                                                             So the\\n'\n",
            " 'MB> 1970 figure seems unlikely to actually be anything but a perijove.\\n'\n",
            " '\\n'\n",
            " \"JG>Sorry, _perijoves_...I'm not used to talking this language.\\n\"\n",
            " '\\n'\n",
            " \"Couldn't we just say periapsis or apoapsis?\\n\"\n",
            " '\\n'\n",
            " ' ']\n"
          ],
          "name": "stdout"
        }
      ]
    },
    {
      "cell_type": "code",
      "metadata": {
        "colab": {
          "base_uri": "https://localhost:8080/"
        },
        "id": "p0CvYE0dXJ4l",
        "outputId": "7d426eeb-a0e6-411b-fb0b-4bcb5348d6d3"
      },
      "source": [
        "print(\"\\n\".join(newsgroups_train.data[:3]))\n"
      ],
      "execution_count": null,
      "outputs": [
        {
          "output_type": "stream",
          "text": [
            "Hi,\n",
            "\n",
            "I've noticed that if you only save a model (with all your mapping planes\n",
            "positioned carefully) to a .3DS file that when you reload it after restarting\n",
            "3DS, they are given a default position and orientation.  But if you save\n",
            "to a .PRJ file their positions/orientation are preserved.  Does anyone\n",
            "know why this information is not stored in the .3DS file?  Nothing is\n",
            "explicitly said in the manual about saving texture rules in the .PRJ file. \n",
            "I'd like to be able to read the texture rule information, does anyone have \n",
            "the format for the .PRJ file?\n",
            "\n",
            "Is the .CEL file format available from somewhere?\n",
            "\n",
            "Rych\n",
            "\n",
            "\n",
            "Seems to be, barring evidence to the contrary, that Koresh was simply\n",
            "another deranged fanatic who thought it neccessary to take a whole bunch of\n",
            "folks with him, children and all, to satisfy his delusional mania. Jim\n",
            "Jones, circa 1993.\n",
            "\n",
            "\n",
            "Nope - fruitcakes like Koresh have been demonstrating such evil corruption\n",
            "for centuries.\n",
            "\n",
            " >In article <1993Apr19.020359.26996@sq.sq.com>, msb@sq.sq.com (Mark Brader) \n",
            "\n",
            "MB>                                                             So the\n",
            "MB> 1970 figure seems unlikely to actually be anything but a perijove.\n",
            "\n",
            "JG>Sorry, _perijoves_...I'm not used to talking this language.\n",
            "\n",
            "Couldn't we just say periapsis or apoapsis?\n",
            "\n",
            " \n"
          ],
          "name": "stdout"
        }
      ]
    },
    {
      "cell_type": "code",
      "metadata": {
        "id": "9RpI5A6oXdSe"
      },
      "source": [
        "# ??newsgroups_train.target_names"
      ],
      "execution_count": null,
      "outputs": []
    },
    {
      "cell_type": "code",
      "metadata": {
        "colab": {
          "base_uri": "https://localhost:8080/"
        },
        "id": "laG0zJ5mYOX4",
        "outputId": "120d2b4c-d1a3-42f0-9ad9-0ad36128ee10"
      },
      "source": [
        "newsgroups_test.target_names"
      ],
      "execution_count": null,
      "outputs": [
        {
          "output_type": "execute_result",
          "data": {
            "text/plain": [
              "['alt.atheism', 'comp.graphics', 'sci.space', 'talk.religion.misc']"
            ]
          },
          "metadata": {
            "tags": []
          },
          "execution_count": 173
        }
      ]
    },
    {
      "cell_type": "code",
      "metadata": {
        "id": "pZtUHJuKYzXj"
      },
      "source": [
        "# ?newsgroups_train.target\n"
      ],
      "execution_count": null,
      "outputs": []
    },
    {
      "cell_type": "code",
      "metadata": {
        "id": "7oxDcC56Y-VD"
      },
      "source": [
        ""
      ],
      "execution_count": null,
      "outputs": []
    },
    {
      "cell_type": "markdown",
      "metadata": {
        "id": "Vt8kA83jZF1L"
      },
      "source": [
        "# Text pre-processing"
      ]
    },
    {
      "cell_type": "markdown",
      "metadata": {
        "id": "w9f9YNFqZOZ8"
      },
      "source": [
        "## Stop words, stemming and lemmatization"
      ]
    },
    {
      "cell_type": "code",
      "metadata": {
        "id": "ivOw_Te9iQeR"
      },
      "source": [
        ""
      ],
      "execution_count": null,
      "outputs": []
    },
    {
      "cell_type": "markdown",
      "metadata": {
        "id": "v3uhvSJMiQ3H"
      },
      "source": [
        "## Importing stop words"
      ]
    },
    {
      "cell_type": "code",
      "metadata": {
        "colab": {
          "base_uri": "https://localhost:8080/"
        },
        "id": "acpX-0HyZSUi",
        "outputId": "7025671e-3dbb-47aa-b0d2-4e00fb499993"
      },
      "source": [
        "from sklearn.feature_extraction import stop_words\n",
        " \n",
        "len(list(stop_words.ENGLISH_STOP_WORDS))"
      ],
      "execution_count": null,
      "outputs": [
        {
          "output_type": "execute_result",
          "data": {
            "text/plain": [
              "318"
            ]
          },
          "metadata": {
            "tags": []
          },
          "execution_count": 175
        }
      ]
    },
    {
      "cell_type": "code",
      "metadata": {
        "colab": {
          "base_uri": "https://localhost:8080/"
        },
        "id": "b-X24CzBZZ_g",
        "outputId": "6dbdb31b-2f96-4a92-fc7a-36f5d6a5abd8"
      },
      "source": [
        "sorted(list(stop_words.ENGLISH_STOP_WORDS))[:20]"
      ],
      "execution_count": null,
      "outputs": [
        {
          "output_type": "execute_result",
          "data": {
            "text/plain": [
              "['a',\n",
              " 'about',\n",
              " 'above',\n",
              " 'across',\n",
              " 'after',\n",
              " 'afterwards',\n",
              " 'again',\n",
              " 'against',\n",
              " 'all',\n",
              " 'almost',\n",
              " 'alone',\n",
              " 'along',\n",
              " 'already',\n",
              " 'also',\n",
              " 'although',\n",
              " 'always',\n",
              " 'am',\n",
              " 'among',\n",
              " 'amongst',\n",
              " 'amoungst']"
            ]
          },
          "metadata": {
            "tags": []
          },
          "execution_count": 176
        }
      ]
    },
    {
      "cell_type": "markdown",
      "metadata": {
        "id": "Khufx6s3iVs3"
      },
      "source": [
        "## Stemming and lemmatisation"
      ]
    },
    {
      "cell_type": "code",
      "metadata": {
        "colab": {
          "base_uri": "https://localhost:8080/"
        },
        "id": "yvcSdXAyiY4R",
        "outputId": "7c5e6b05-4514-4e55-a3be-9c82807f100f"
      },
      "source": [
        "import nltk\n",
        "nltk.download('wordnet')"
      ],
      "execution_count": null,
      "outputs": [
        {
          "output_type": "stream",
          "text": [
            "[nltk_data] Downloading package wordnet to /root/nltk_data...\n",
            "[nltk_data]   Package wordnet is already up-to-date!\n"
          ],
          "name": "stdout"
        },
        {
          "output_type": "execute_result",
          "data": {
            "text/plain": [
              "True"
            ]
          },
          "metadata": {
            "tags": []
          },
          "execution_count": 177
        }
      ]
    },
    {
      "cell_type": "code",
      "metadata": {
        "id": "HwN05YsYih2R"
      },
      "source": [
        "from nltk import stem"
      ],
      "execution_count": null,
      "outputs": []
    },
    {
      "cell_type": "code",
      "metadata": {
        "id": "saZXv1CZiqs5"
      },
      "source": [
        "wnl = stem.WordNetLemmatizer()\n",
        "porter = stem.porter.PorterStemmer()"
      ],
      "execution_count": null,
      "outputs": []
    },
    {
      "cell_type": "code",
      "metadata": {
        "id": "OVp8rHBbiyOr"
      },
      "source": [
        "# ?stem.WordNetLemmatizer"
      ],
      "execution_count": null,
      "outputs": []
    },
    {
      "cell_type": "code",
      "metadata": {
        "id": "4M7j1-VUi2CK"
      },
      "source": [
        "test = ['berries','summaries','oranges']"
      ],
      "execution_count": null,
      "outputs": []
    },
    {
      "cell_type": "code",
      "metadata": {
        "id": "60oEMghYjB_d"
      },
      "source": [
        "def lemmatise(test):\n",
        "  return [wnl.lemmatize(w) for w in test]\n"
      ],
      "execution_count": null,
      "outputs": []
    },
    {
      "cell_type": "code",
      "metadata": {
        "colab": {
          "base_uri": "https://localhost:8080/"
        },
        "id": "IVonaabgp6yt",
        "outputId": "b67a7c82-19be-49a0-d9de-a7397213fba8"
      },
      "source": [
        "lemmatise(test)"
      ],
      "execution_count": null,
      "outputs": [
        {
          "output_type": "execute_result",
          "data": {
            "text/plain": [
              "['berry', 'summary', 'orange']"
            ]
          },
          "metadata": {
            "tags": []
          },
          "execution_count": 183
        }
      ]
    },
    {
      "cell_type": "code",
      "metadata": {
        "id": "wad8NJQLhLnF"
      },
      "source": [
        "test_2= ['organize','organizes','organising']\n",
        "test_3 =['universe','university']"
      ],
      "execution_count": null,
      "outputs": []
    },
    {
      "cell_type": "code",
      "metadata": {
        "id": "b9hE3kYqhWol"
      },
      "source": [
        "test_list = [test,test_2,test_3] "
      ],
      "execution_count": null,
      "outputs": []
    },
    {
      "cell_type": "code",
      "metadata": {
        "colab": {
          "base_uri": "https://localhost:8080/"
        },
        "id": "8gdGNQQChmQX",
        "outputId": "a984fff2-d7ab-437d-8664-719a73d31a24"
      },
      "source": [
        "[lemmatise(t) for t in test_list]"
      ],
      "execution_count": null,
      "outputs": [
        {
          "output_type": "execute_result",
          "data": {
            "text/plain": [
              "[['berry', 'summary', 'orange'],\n",
              " ['organize', 'organizes', 'organising'],\n",
              " ['universe', 'university']]"
            ]
          },
          "metadata": {
            "tags": []
          },
          "execution_count": 186
        }
      ]
    },
    {
      "cell_type": "markdown",
      "metadata": {
        "id": "ESbS-RxHh3tS"
      },
      "source": [
        "##Importing Spacy"
      ]
    },
    {
      "cell_type": "code",
      "metadata": {
        "id": "Y3XmNNm9h8lb"
      },
      "source": [
        "import spacy"
      ],
      "execution_count": null,
      "outputs": []
    },
    {
      "cell_type": "code",
      "metadata": {
        "colab": {
          "base_uri": "https://localhost:8080/"
        },
        "id": "iQruuwvmjJMj",
        "outputId": "2f99d77d-0a1d-4453-8746-6f5fdb5c581e"
      },
      "source": [
        "spacy.cli.download(\"en_core_web_sm\")"
      ],
      "execution_count": null,
      "outputs": [
        {
          "output_type": "stream",
          "text": [
            "\u001b[38;5;2m✔ Download and installation successful\u001b[0m\n",
            "You can now load the model via spacy.load('en_core_web_sm')\n"
          ],
          "name": "stdout"
        }
      ]
    },
    {
      "cell_type": "code",
      "metadata": {
        "id": "HfTfzmx4jVVN"
      },
      "source": [
        "nlp = spacy.load(\"en_core_web_sm\")\n",
        "lemmatizer = nlp.Defaults.create_lemmatizer()"
      ],
      "execution_count": null,
      "outputs": []
    },
    {
      "cell_type": "code",
      "metadata": {
        "colab": {
          "base_uri": "https://localhost:8080/"
        },
        "id": "W4LwYomlmcSA",
        "outputId": "3711a8a0-a24e-44bb-a6ad-6c758b67607c"
      },
      "source": [
        "[lemmatizer.lookup(t) for t in test]"
      ],
      "execution_count": null,
      "outputs": [
        {
          "output_type": "execute_result",
          "data": {
            "text/plain": [
              "['berries', 'summaries', 'oranges']"
            ]
          },
          "metadata": {
            "tags": []
          },
          "execution_count": 190
        }
      ]
    },
    {
      "cell_type": "code",
      "metadata": {
        "colab": {
          "base_uri": "https://localhost:8080/"
        },
        "id": "Vjj0M-VzmjCi",
        "outputId": "841ec178-8df9-4436-d5e7-6e5aa4b32a5e"
      },
      "source": [
        "sorted(list(nlp.Defaults.stop_words))[:20]\n"
      ],
      "execution_count": null,
      "outputs": [
        {
          "output_type": "execute_result",
          "data": {
            "text/plain": [
              "[\"'d\",\n",
              " \"'ll\",\n",
              " \"'m\",\n",
              " \"'re\",\n",
              " \"'s\",\n",
              " \"'ve\",\n",
              " 'a',\n",
              " 'about',\n",
              " 'above',\n",
              " 'across',\n",
              " 'after',\n",
              " 'afterwards',\n",
              " 'again',\n",
              " 'against',\n",
              " 'all',\n",
              " 'almost',\n",
              " 'alone',\n",
              " 'along',\n",
              " 'already',\n",
              " 'also']"
            ]
          },
          "metadata": {
            "tags": []
          },
          "execution_count": 191
        }
      ]
    },
    {
      "cell_type": "code",
      "metadata": {
        "colab": {
          "base_uri": "https://localhost:8080/"
        },
        "id": "VAtEw7tsnUx8",
        "outputId": "db471132-1131-476d-bc3a-df242abb73c3"
      },
      "source": [
        "import nltk\n",
        "from nltk.corpus import stopwords\n",
        "nltk.download('stopwords')\n"
      ],
      "execution_count": null,
      "outputs": [
        {
          "output_type": "stream",
          "text": [
            "[nltk_data] Downloading package stopwords to /root/nltk_data...\n",
            "[nltk_data]   Package stopwords is already up-to-date!\n"
          ],
          "name": "stdout"
        },
        {
          "output_type": "execute_result",
          "data": {
            "text/plain": [
              "True"
            ]
          },
          "metadata": {
            "tags": []
          },
          "execution_count": 192
        }
      ]
    },
    {
      "cell_type": "code",
      "metadata": {
        "colab": {
          "base_uri": "https://localhost:8080/"
        },
        "id": "FjarYK9oidX0",
        "outputId": "70986799-73e5-489e-9149-e7e06a21c55c"
      },
      "source": [
        "sorted(list(stopwords.words('english')))[:20]\n"
      ],
      "execution_count": null,
      "outputs": [
        {
          "output_type": "execute_result",
          "data": {
            "text/plain": [
              "['a',\n",
              " 'about',\n",
              " 'above',\n",
              " 'after',\n",
              " 'again',\n",
              " 'against',\n",
              " 'ain',\n",
              " 'all',\n",
              " 'am',\n",
              " 'an',\n",
              " 'and',\n",
              " 'any',\n",
              " 'are',\n",
              " 'aren',\n",
              " \"aren't\",\n",
              " 'as',\n",
              " 'at',\n",
              " 'be',\n",
              " 'because',\n",
              " 'been']"
            ]
          },
          "metadata": {
            "tags": []
          },
          "execution_count": 193
        }
      ]
    },
    {
      "cell_type": "code",
      "metadata": {
        "id": "FDFM_q4bieGz"
      },
      "source": [
        "spacy_stpwrds = sorted(list(nlp.Defaults.stop_words))\n",
        "nltk_stpwrds = sorted(list(stopwords.words('english')))"
      ],
      "execution_count": null,
      "outputs": []
    },
    {
      "cell_type": "code",
      "metadata": {
        "colab": {
          "base_uri": "https://localhost:8080/"
        },
        "id": "j2zNSyiijd8P",
        "outputId": "e681a7ab-600b-4f10-9073-000d15a36a5e"
      },
      "source": [
        "type(spacy_stpwrds)"
      ],
      "execution_count": null,
      "outputs": [
        {
          "output_type": "execute_result",
          "data": {
            "text/plain": [
              "list"
            ]
          },
          "metadata": {
            "tags": []
          },
          "execution_count": 195
        }
      ]
    },
    {
      "cell_type": "code",
      "metadata": {
        "id": "J6SydYiekHr5"
      },
      "source": [
        "stpwrds_difference = [item for item in spacy_stpwrds if item not in nltk_stpwrds]\n"
      ],
      "execution_count": null,
      "outputs": []
    },
    {
      "cell_type": "code",
      "metadata": {
        "colab": {
          "base_uri": "https://localhost:8080/"
        },
        "id": "HT6QNa_1ki3l",
        "outputId": "15256e7e-b4f8-4dd9-9d93-5b6066d81a46"
      },
      "source": [
        "len(stpwrds_difference)"
      ],
      "execution_count": null,
      "outputs": [
        {
          "output_type": "execute_result",
          "data": {
            "text/plain": [
              "203"
            ]
          },
          "metadata": {
            "tags": []
          },
          "execution_count": 197
        }
      ]
    },
    {
      "cell_type": "markdown",
      "metadata": {
        "id": "g7emUZOQlHEG"
      },
      "source": [
        "# Data Processing"
      ]
    },
    {
      "cell_type": "code",
      "metadata": {
        "id": "VWMtq41WlMx1"
      },
      "source": [
        "from sklearn.feature_extraction.text import CountVectorizer, TfidfVectorizer"
      ],
      "execution_count": null,
      "outputs": []
    },
    {
      "cell_type": "code",
      "metadata": {
        "colab": {
          "base_uri": "https://localhost:8080/"
        },
        "id": "h6ZJUfJTAuj_",
        "outputId": "fc3c3806-3f98-47e4-a297-f97181f23047"
      },
      "source": [
        "import nltk\n",
        "nltk.download('punkt')"
      ],
      "execution_count": null,
      "outputs": [
        {
          "output_type": "stream",
          "text": [
            "[nltk_data] Downloading package punkt to /root/nltk_data...\n",
            "[nltk_data]   Package punkt is already up-to-date!\n"
          ],
          "name": "stdout"
        },
        {
          "output_type": "execute_result",
          "data": {
            "text/plain": [
              "True"
            ]
          },
          "metadata": {
            "tags": []
          },
          "execution_count": 199
        }
      ]
    },
    {
      "cell_type": "code",
      "metadata": {
        "id": "KxvDCR4B5EA9"
      },
      "source": [
        "# ??vectorizer"
      ],
      "execution_count": null,
      "outputs": []
    },
    {
      "cell_type": "code",
      "metadata": {
        "id": "25anoxUqAwsU"
      },
      "source": [
        "# vectorizer = CountVectorizer(stop_words ='english')"
      ],
      "execution_count": null,
      "outputs": []
    },
    {
      "cell_type": "code",
      "metadata": {
        "id": "HiMCsrQF4R73"
      },
      "source": [
        "vectorizer = TfidfVectorizer(stop_words='english')"
      ],
      "execution_count": null,
      "outputs": []
    },
    {
      "cell_type": "code",
      "metadata": {
        "id": "YLfQTVZKA5QV"
      },
      "source": [
        "# ??vectorizer    "
      ],
      "execution_count": null,
      "outputs": []
    },
    {
      "cell_type": "code",
      "metadata": {
        "id": "xmDl5Mb2A6o9"
      },
      "source": [
        "vectors = vectorizer.fit_transform(newsgroups_train.data).todense()"
      ],
      "execution_count": null,
      "outputs": []
    },
    {
      "cell_type": "code",
      "metadata": {
        "colab": {
          "base_uri": "https://localhost:8080/"
        },
        "id": "_zgXk_m9BmfJ",
        "outputId": "69a248dd-eb98-4d7d-ca5d-63c8f8f6c79e"
      },
      "source": [
        "vectors"
      ],
      "execution_count": null,
      "outputs": [
        {
          "output_type": "execute_result",
          "data": {
            "text/plain": [
              "matrix([[0., 0., 0., ..., 0., 0., 0.],\n",
              "        [0., 0., 0., ..., 0., 0., 0.],\n",
              "        [0., 0., 0., ..., 0., 0., 0.],\n",
              "        ...,\n",
              "        [0., 0., 0., ..., 0., 0., 0.],\n",
              "        [0., 0., 0., ..., 0., 0., 0.],\n",
              "        [0., 0., 0., ..., 0., 0., 0.]])"
            ]
          },
          "metadata": {
            "tags": []
          },
          "execution_count": 207
        }
      ]
    },
    {
      "cell_type": "code",
      "metadata": {
        "colab": {
          "base_uri": "https://localhost:8080/"
        },
        "id": "GQZl-LmEBoX2",
        "outputId": "b8994f91-1fcc-4fc8-e0fe-3b88c0502527"
      },
      "source": [
        "vectors.shape"
      ],
      "execution_count": null,
      "outputs": [
        {
          "output_type": "execute_result",
          "data": {
            "text/plain": [
              "(2034, 26576)"
            ]
          },
          "metadata": {
            "tags": []
          },
          "execution_count": 208
        }
      ]
    },
    {
      "cell_type": "code",
      "metadata": {
        "colab": {
          "base_uri": "https://localhost:8080/"
        },
        "id": "vdHXYf8BB0Tp",
        "outputId": "d1e5a1ad-1782-46ea-f89f-c4a1de42b211"
      },
      "source": [
        "print(len(newsgroups_train.data), vectors.shape)"
      ],
      "execution_count": null,
      "outputs": [
        {
          "output_type": "stream",
          "text": [
            "2034 (2034, 26576)\n"
          ],
          "name": "stdout"
        }
      ]
    },
    {
      "cell_type": "code",
      "metadata": {
        "id": "TlC9DrA5B8Ij"
      },
      "source": [
        "vocab = np.array(vectorizer.get_feature_names())"
      ],
      "execution_count": null,
      "outputs": []
    },
    {
      "cell_type": "code",
      "metadata": {
        "colab": {
          "base_uri": "https://localhost:8080/"
        },
        "id": "0dENJDNuDFem",
        "outputId": "5fed8dcf-083e-4426-e84c-7ce8d2af094a"
      },
      "source": [
        "vocab.shape"
      ],
      "execution_count": null,
      "outputs": [
        {
          "output_type": "execute_result",
          "data": {
            "text/plain": [
              "(26576,)"
            ]
          },
          "metadata": {
            "tags": []
          },
          "execution_count": 211
        }
      ]
    },
    {
      "cell_type": "code",
      "metadata": {
        "colab": {
          "base_uri": "https://localhost:8080/"
        },
        "id": "LcJUqbPEDxfT",
        "outputId": "13176949-13ab-4a59-e527-70b63f288c7c"
      },
      "source": [
        "vocab[7000:7010]"
      ],
      "execution_count": null,
      "outputs": [
        {
          "output_type": "execute_result",
          "data": {
            "text/plain": [
              "array(['cosmonauts', 'cosmos', 'cosponsored', 'cost', 'costa', 'costar',\n",
              "       'costing', 'costly', 'costruction', 'costs'], dtype='<U80')"
            ]
          },
          "metadata": {
            "tags": []
          },
          "execution_count": 214
        }
      ]
    },
    {
      "cell_type": "code",
      "metadata": {
        "id": "6Bkw0dq2D2HM"
      },
      "source": [
        ""
      ],
      "execution_count": null,
      "outputs": []
    },
    {
      "cell_type": "markdown",
      "metadata": {
        "id": "GLEFd_AGFbcg"
      },
      "source": [
        "# Model Selection"
      ]
    },
    {
      "cell_type": "markdown",
      "metadata": {
        "id": "3ZTduZMoFgC_"
      },
      "source": [
        "## Algorithm: Singular value decomposition (LSA)"
      ]
    },
    {
      "cell_type": "code",
      "metadata": {
        "id": "f9bXD-erwV8A"
      },
      "source": [
        "from sklearn import decomposition\n",
        "from scipy import linalg\n",
        "import matplotlib.pyplot as plt"
      ],
      "execution_count": null,
      "outputs": []
    },
    {
      "cell_type": "code",
      "metadata": {
        "colab": {
          "base_uri": "https://localhost:8080/"
        },
        "id": "4mpAdE75FjU5",
        "outputId": "c6f18e7a-d459-4de2-fda2-54f531ab7d10"
      },
      "source": [
        "%time U, S, Vh = linalg.svd(vectors, full_matrices=False)"
      ],
      "execution_count": null,
      "outputs": [
        {
          "output_type": "stream",
          "text": [
            "CPU times: user 1min 28s, sys: 5.05 s, total: 1min 33s\n",
            "Wall time: 48.4 s\n"
          ],
          "name": "stdout"
        }
      ]
    },
    {
      "cell_type": "code",
      "metadata": {
        "colab": {
          "base_uri": "https://localhost:8080/"
        },
        "id": "oCLr5MIqxP-n",
        "outputId": "06608ae8-24dd-4a0b-8ce2-64a9b626393e"
      },
      "source": [
        "type(U)"
      ],
      "execution_count": null,
      "outputs": [
        {
          "output_type": "execute_result",
          "data": {
            "text/plain": [
              "numpy.ndarray"
            ]
          },
          "metadata": {
            "tags": []
          },
          "execution_count": 217
        }
      ]
    },
    {
      "cell_type": "code",
      "metadata": {
        "colab": {
          "base_uri": "https://localhost:8080/"
        },
        "id": "ic72TJmL0vrh",
        "outputId": "e73a538a-eb9a-40f5-b750-8185e9a41b0b"
      },
      "source": [
        "print(U.shape,S.shape,Vh.shape)"
      ],
      "execution_count": null,
      "outputs": [
        {
          "output_type": "stream",
          "text": [
            "(2034, 2034) (2034,) (2034, 26576)\n"
          ],
          "name": "stdout"
        }
      ]
    },
    {
      "cell_type": "code",
      "metadata": {
        "colab": {
          "base_uri": "https://localhost:8080/"
        },
        "id": "wqyg8RpQ0xzS",
        "outputId": "abc1c31a-43e7-42ed-de6c-478529405469"
      },
      "source": [
        "S[:5]"
      ],
      "execution_count": null,
      "outputs": [
        {
          "output_type": "execute_result",
          "data": {
            "text/plain": [
              "array([5.19203791, 3.54430061, 3.0736553 , 2.85311835, 2.69921543])"
            ]
          },
          "metadata": {
            "tags": []
          },
          "execution_count": 219
        }
      ]
    },
    {
      "cell_type": "markdown",
      "metadata": {
        "id": "0glIWkld1I1t"
      },
      "source": [
        "## Topics"
      ]
    },
    {
      "cell_type": "code",
      "metadata": {
        "colab": {
          "base_uri": "https://localhost:8080/",
          "height": 281
        },
        "id": "pOA2g88R1KGj",
        "outputId": "dc979d7a-fd89-413a-e36c-c55ca7e7127b"
      },
      "source": [
        "plt.plot(S)"
      ],
      "execution_count": null,
      "outputs": [
        {
          "output_type": "execute_result",
          "data": {
            "text/plain": [
              "[<matplotlib.lines.Line2D at 0x7f82990c1710>]"
            ]
          },
          "metadata": {
            "tags": []
          },
          "execution_count": 220
        },
        {
          "output_type": "display_data",
          "data": {
            "image/png": "[encoded data removed]",
            "text/plain": [
              "<Figure size 432x288 with 1 Axes>"
            ]
          },
          "metadata": {
            "tags": [],
            "needs_background": "light"
          }
        }
      ]
    },
    {
      "cell_type": "code",
      "metadata": {
        "colab": {
          "base_uri": "https://localhost:8080/",
          "height": 281
        },
        "id": "VAbVPgrN8F_V",
        "outputId": "ff2a41ec-9db1-42a1-f469-fe2348b2232e"
      },
      "source": [
        "plt.plot(S[:10])"
      ],
      "execution_count": null,
      "outputs": [
        {
          "output_type": "execute_result",
          "data": {
            "text/plain": [
              "[<matplotlib.lines.Line2D at 0x7f829134f0d0>]"
            ]
          },
          "metadata": {
            "tags": []
          },
          "execution_count": 225
        },
        {
          "output_type": "display_data",
          "data": {
            "image/png": "[encoded data removed]",
            "text/plain": [
              "<Figure size 432x288 with 1 Axes>"
            ]
          },
          "metadata": {
            "tags": [],
            "needs_background": "light"
          }
        }
      ]
    },
    {
      "cell_type": "code",
      "metadata": {
        "id": "GG5vW8mj89Hk"
      },
      "source": [
        "\n",
        "num_top_words=8\n",
        "\n",
        "def show_topics(a):\n",
        "    top_words = lambda t: [vocab[i] for i in np.argsort(t)[:-num_top_words-1:-1]]\n",
        "    topic_words = ([top_words(t) for t in a])\n",
        "    return [' '.join(t) for t in topic_words]"
      ],
      "execution_count": null,
      "outputs": []
    },
    {
      "cell_type": "code",
      "metadata": {
        "colab": {
          "base_uri": "https://localhost:8080/"
        },
        "id": "fqedRWcs2HUa",
        "outputId": "6b8f6530-6880-495c-be7c-9f058f6b4c70"
      },
      "source": [
        "show_topics(Vh[:15])"
      ],
      "execution_count": null,
      "outputs": [
        {
          "output_type": "execute_result",
          "data": {
            "text/plain": [
              "['ditto critus collegue asg point_node n4 fiddled pnp',\n",
              " 'space graphics thanks program files image nasa ftp',\n",
              " 'space nasa launch shuttle moon orbit lunar station',\n",
              " 'ico bobbe tek beauchaine bronx manhattan sank queens',\n",
              " 'objective think morality don just people moral values',\n",
              " 'objective morality values moral god science space subjective',\n",
              " 'graphics comp god software group objective aspects edu',\n",
              " 'image file cview graphics data use just images',\n",
              " 'jesus objective christ christian software christians bible did',\n",
              " 'edu space jesus ftp file nasa files pub',\n",
              " 'islam atheism islamic atheists religion muslims bobby evidence',\n",
              " 'graphics group islam aspects context question code book',\n",
              " 'space card vesa mode windows color vga driver',\n",
              " 'just edu cview did objective mac context jim',\n",
              " 'just thanks software objective real did values mary']"
            ]
          },
          "metadata": {
            "tags": []
          },
          "execution_count": 238
        }
      ]
    }
  ]
}